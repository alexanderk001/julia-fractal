{
 "cells": [
  {
   "cell_type": "markdown",
   "metadata": {},
   "source": [
    "# 🌌 Explore the Julia Set"
   ]
  },
  {
   "cell_type": "markdown",
   "metadata": {},
   "source": [
    "## Import Required Libraries"
   ]
  },
  {
   "cell_type": "code",
   "execution_count": 1,
   "metadata": {},
   "outputs": [],
   "source": [
    "import numpy as np\n",
    "import matplotlib.pyplot as plt"
   ]
  },
  {
   "cell_type": "markdown",
   "metadata": {},
   "source": [
    "## Define the Iteration Rule"
   ]
  },
  {
   "cell_type": "markdown",
   "metadata": {},
   "source": [
    "The function `my_func` defines the iteration rule for the Julia set. It takes two input values: `z`, a complex number, and `c`, a fixed complex number that determines the specific Julia set."
   ]
  },
  {
   "cell_type": "code",
   "execution_count": 34,
   "metadata": {},
   "outputs": [],
   "source": [
    "def my_func(z, c):\n",
    "    return z**2 +c"
   ]
  },
  {
   "cell_type": "markdown",
   "metadata": {},
   "source": [
    "## Create the Julia Set"
   ]
  },
  {
   "cell_type": "markdown",
   "metadata": {},
   "source": [
    "The `julia_set` function generates the Julia set by mapping the complex plane pixel by pixel. For each pixel in the image, a complex number `z` is created whose real and imaginary parts are determined by `x_range` and `y_range`. These numbers are iteratively changed using the passed function `func` until the amount of `z` is greater than 2 or the maximum number of iterations is reached. The number of iterations for each pixel is stored in a 2D array that represents the structure of the Julia set."
   ]
  },
  {
   "cell_type": "code",
   "execution_count": 35,
   "metadata": {},
   "outputs": [],
   "source": [
    "def julia_set(func, c, width, height, zoom, max_iter):\n",
    "    # Initialize a 2D array to store iteration counts\n",
    "    julia = np.zeros((width, height))\n",
    "\n",
    "    # Create ranges for the real and imaginary parts of the complex plane\n",
    "    x_range = np.linspace(-1.5 * zoom, 1.5 * zoom, width)\n",
    "    y_range = np.linspace(-1.5 * zoom, 1.5 * zoom, height)\n",
    "\n",
    "    # Iterate over each pixel in the image\n",
    "    for x in range(width):\n",
    "        for y in range(height):\n",
    "            zx = x_range[x]\n",
    "            zy = y_range[y]\n",
    "            z = complex(zx, zy)\n",
    "            iteration = 0\n",
    "\n",
    "            while abs(z) < 2 and iteration < max_iter:\n",
    "                z = func(z, c)\n",
    "                iteration += 1\n",
    "\n",
    "            julia[x, y] = iteration\n",
    "\n",
    "    return julia"
   ]
  },
  {
   "cell_type": "markdown",
   "metadata": {},
   "source": [
    "## Set the Parameters"
   ]
  },
  {
   "cell_type": "markdown",
   "metadata": {},
   "source": [
    "The parameters that influence the appearance and behavior of the Julia set are defined:\n",
    "\n",
    "- `width` and `height` define the size of the generated image.\n",
    "- `zoom` determines the scale at which the complex layer is displayed.\n",
    "- `c` is the complex constant that defines the specific Julia set for the calculations.\n",
    "- `max_iter` specifies the maximum number of iterations to be performed for each pixel before the calculation is stopped."
   ]
  },
  {
   "cell_type": "code",
   "execution_count": 42,
   "metadata": {},
   "outputs": [],
   "source": [
    "width, height = 800, 800\n",
    "zoom = 1\n",
    "c = complex(-0.8, 0.156)\n",
    "max_iter = 300"
   ]
  },
  {
   "cell_type": "markdown",
   "metadata": {},
   "source": [
    "## Generate the Julia Set"
   ]
  },
  {
   "cell_type": "code",
   "execution_count": 43,
   "metadata": {},
   "outputs": [],
   "source": [
    "julia = julia_set(my_func, c, width, height, zoom, max_iter)"
   ]
  },
  {
   "cell_type": "markdown",
   "metadata": {},
   "source": [
    "## Visualize the Julia Set"
   ]
  },
  {
   "cell_type": "markdown",
   "metadata": {},
   "source": [
    "The Julia set is visualized with `matplotlib`. The `imshow` function displays the 2D array `julia` as an image, with the colors representing the number of iterations for each pixel. The color bar indicates the number of iterations, and the axes label the real and imaginary parts of the complex numbers. The title indicates the constant complex number `c` for which the Julia set was calculated."
   ]
  },
  {
   "cell_type": "code",
   "execution_count": null,
   "metadata": {},
   "outputs": [],
   "source": [
    "plt.figure(figsize=(12, 12))\n",
    "plt.imshow(julia.T, cmap='inferno', origin='lower', aspect='equal', \n",
    "           extent=[-1.5*zoom, 1.5*zoom, -1.5*zoom, 1.5*zoom])\n",
    "plt.colorbar(label=\"Iterations\")\n",
    "plt.title(f'Julia Set for c = {c} and $f(z) = z^2 + c$', fontsize=18)\n",
    "plt.xlabel('Re(z)', fontsize=15)\n",
    "plt.ylabel('Im(z)', fontsize=15)\n",
    "\n",
    "# plt.tight_layout()\n",
    "# plt.savefig('julia_set.png', dpi=600)\n",
    "\n",
    "plt.show()"
   ]
  }
 ],
 "metadata": {
  "kernelspec": {
   "display_name": "venv",
   "language": "python",
   "name": "python3"
  },
  "language_info": {
   "codemirror_mode": {
    "name": "ipython",
    "version": 3
   },
   "file_extension": ".py",
   "mimetype": "text/x-python",
   "name": "python",
   "nbconvert_exporter": "python",
   "pygments_lexer": "ipython3",
   "version": "3.13.1"
  }
 },
 "nbformat": 4,
 "nbformat_minor": 2
}
